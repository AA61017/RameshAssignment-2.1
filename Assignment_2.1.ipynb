{
 "cells": [
  {
   "cell_type": "code",
   "execution_count": 2,
   "metadata": {},
   "outputs": [
    {
     "name": "stdout",
     "output_type": "stream",
     "text": [
      "Input a sequence of comma-separated numbers : 12,29,34,45,54,67,78\n",
      "Generated List :  ['12', '29', '34', '45', '54', '67', '78']\n"
     ]
    }
   ],
   "source": [
    "# Program to accept a sequence of comma-separated numbers from console and generate a list.\n",
    "\n",
    "# Take a sequence of comma-separated numbers as input\n",
    "values = input(\"Input a sequence of comma-separated numbers : \")\n",
    "list = values.split(\",\")\n",
    "\n",
    "print('Generated List : ',list)"
   ]
  },
  {
   "cell_type": "code",
   "execution_count": null,
   "metadata": {},
   "outputs": [],
   "source": []
  }
 ],
 "metadata": {
  "kernelspec": {
   "display_name": "Python 3",
   "language": "python",
   "name": "python3"
  },
  "language_info": {
   "codemirror_mode": {
    "name": "ipython",
    "version": 3
   },
   "file_extension": ".py",
   "mimetype": "text/x-python",
   "name": "python",
   "nbconvert_exporter": "python",
   "pygments_lexer": "ipython3",
   "version": "3.6.4"
  }
 },
 "nbformat": 4,
 "nbformat_minor": 2
}
